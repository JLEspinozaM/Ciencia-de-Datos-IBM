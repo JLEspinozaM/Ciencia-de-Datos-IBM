{
 "cells": [
  {
   "cell_type": "markdown",
   "id": "6b10f5ed-fadf-4455-9249-089437e01398",
   "metadata": {},
   "source": [
    "# Data Science Tools and Ecosystem"
   ]
  },
  {
   "cell_type": "markdown",
   "id": "bd5aca30-1e3e-46c1-bd51-d48a6e674cb6",
   "metadata": {},
   "source": [
    "In this notebook, Data Science Tools and Ecosystem are summarized. "
   ]
  },
  {
   "cell_type": "markdown",
   "id": "20fbcd54-78af-4bda-8167-08849871f73d",
   "metadata": {},
   "source": [
    "**Objectives:**\n",
    "\n",
    "- List popular languages for Data Science\n",
    "- Identify commonly used Data Science libraries\n",
    "- Explore different open-source Data Science tools\n",
    "- Perform basic arithmetic operations in Python\n",
    "- Understand the process of converting units in Python (e.g., minutes to hours)"
   ]
  },
  {
   "cell_type": "markdown",
   "id": "5aaebc9e-fd55-4f79-a734-e8709e390ecd",
   "metadata": {},
   "source": [
    "Some of the popular languages that Data Scientists use are:\n",
    "\n",
    "1. C++\n",
    "2. Python\n",
    "3. Scala\n",
    "4. SQL\n",
    "5. PHP\n",
    "6. Julia\n",
    "7. Visual Basic"
   ]
  },
  {
   "cell_type": "markdown",
   "id": "50b53cbd-4bd8-4fff-8c09-832f95eaf3a3",
   "metadata": {},
   "source": [
    "Some of the commonly used libraries used by Data Scientists include:\n",
    "\n",
    "1. Matplotlib\n",
    "2. Pandas\n",
    "3. Matplotlib\n",
    "4. Seaborn\n",
    "5. Keras\n",
    "6. Apache Spark \n"
   ]
  },
  {
   "cell_type": "markdown",
   "id": "3a6af5fc-35b9-4368-99d5-0d71d57f90bc",
   "metadata": {},
   "source": [
    "| **Data Science Tools**     |\n",
    "|----------------------------|\n",
    "| Spyder                      |\n",
    "| Jupyter Notebooks           |\n",
    "| Zeppelin                    |\n",
    "| R Studio                    |\n",
    " \n"
   ]
  },
  {
   "cell_type": "markdown",
   "id": "a2fb581a-6609-4aa0-b496-21c2d8509ce5",
   "metadata": {},
   "source": [
    "### Below are a few examples of evaluating arithmetic expressions in Python.\n",
    "\n",
    "1. **Addition:** `7 + 3 = 10`\n",
    "   \n",
    "2. **Subtraction:** `9 - 2 = 7`\n",
    "   \n",
    "3. **Multiplication:** `7 * 7 = 49`\n",
    "   \n",
    "4. **Division:** `20 / 4 = 5`\n",
    "   \n",
    "5. **Exponentiation:** `4 ** 2 = 16`\n",
    "\n",
    "6. **Parentheses and mixed operations:** `(2 * 6) + 7 = 19`"
   ]
  },
  {
   "cell_type": "code",
   "execution_count": 72,
   "id": "c0de330f-30c0-4db7-b841-aa913cb82ed0",
   "metadata": {},
   "outputs": [
    {
     "data": {
      "text/plain": [
       "17"
      ]
     },
     "execution_count": 72,
     "metadata": {},
     "output_type": "execute_result"
    }
   ],
   "source": [
    "# This is a simple arithmetic expression to multiply then add integers\n",
    "(3 * 4) + 5"
   ]
  },
  {
   "cell_type": "code",
   "execution_count": 73,
   "id": "a8d8c04d",
   "metadata": {},
   "outputs": [
    {
     "data": {
      "text/plain": [
       "3.3333333333333335"
      ]
     },
     "execution_count": 73,
     "metadata": {},
     "output_type": "execute_result"
    }
   ],
   "source": [
    "# This will convert 200 minutes to hours by dividing by 60\n",
    "200 / 60"
   ]
  },
  {
   "cell_type": "markdown",
   "id": "2a4275f3-9192-4364-ab4a-11c342fd4378",
   "metadata": {},
   "source": [
    "## Author\n",
    "\n",
    "Jose Luis Espinoza"
   ]
  }
 ],
 "metadata": {
  "kernelspec": {
   "display_name": "Python 3 (ipykernel)",
   "language": "python",
   "name": "python3"
  },
  "language_info": {
   "codemirror_mode": {
    "name": "ipython",
    "version": 3
   },
   "file_extension": ".py",
   "mimetype": "text/x-python",
   "name": "python",
   "nbconvert_exporter": "python",
   "pygments_lexer": "ipython3",
   "version": "3.12.4"
  }
 },
 "nbformat": 4,
 "nbformat_minor": 5
}
